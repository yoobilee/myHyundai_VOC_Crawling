{
  "nbformat": 4,
  "nbformat_minor": 0,
  "metadata": {
    "colab": {
      "provenance": [],
      "authorship_tag": "ABX9TyPtXFbqy37WmZ7wK0P2mhf7",
      "include_colab_link": true
    },
    "kernelspec": {
      "name": "python3",
      "display_name": "Python 3"
    },
    "language_info": {
      "name": "python"
    }
  },
  "cells": [
    {
      "cell_type": "markdown",
      "metadata": {
        "id": "view-in-github",
        "colab_type": "text"
      },
      "source": [
        "<a href=\"https://colab.research.google.com/github/yoobilee/myHyundai_VOC_Crawling/blob/main/Kia%20app_AOS_VOC_Crawling.ipynb\" target=\"_parent\"><img src=\"https://colab.research.google.com/assets/colab-badge.svg\" alt=\"Open In Colab\"/></a>"
      ]
    },
    {
      "cell_type": "code",
      "execution_count": 1,
      "metadata": {
        "colab": {
          "base_uri": "https://localhost:8080/",
          "height": 162
        },
        "id": "O3aPiqXZn45s",
        "outputId": "a1e6afe7-ecff-48e6-ee34-c9311aa36017"
      },
      "outputs": [
        {
          "output_type": "stream",
          "name": "stdout",
          "text": [
            "Collecting google-play-scraper\n",
            "  Downloading google_play_scraper-1.2.7-py3-none-any.whl.metadata (50 kB)\n",
            "\u001b[?25l     \u001b[90m━━━━━━━━━━━━━━━━━━━━━━━━━━━━━━━━━━━━━━━━\u001b[0m \u001b[32m0.0/50.2 kB\u001b[0m \u001b[31m?\u001b[0m eta \u001b[36m-:--:--\u001b[0m\r\u001b[2K     \u001b[90m━━━━━━━━━━━━━━━━━━━━━━━━━━━━━━━━━━━━━━━━\u001b[0m \u001b[32m50.2/50.2 kB\u001b[0m \u001b[31m1.4 MB/s\u001b[0m eta \u001b[36m0:00:00\u001b[0m\n",
            "\u001b[?25hRequirement already satisfied: openpyxl in /usr/local/lib/python3.11/dist-packages (3.1.5)\n",
            "Requirement already satisfied: et-xmlfile in /usr/local/lib/python3.11/dist-packages (from openpyxl) (2.0.0)\n",
            "Downloading google_play_scraper-1.2.7-py3-none-any.whl (28 kB)\n",
            "Installing collected packages: google-play-scraper\n",
            "Successfully installed google-play-scraper-1.2.7\n"
          ]
        },
        {
          "output_type": "display_data",
          "data": {
            "text/plain": [
              "<IPython.core.display.Javascript object>"
            ],
            "application/javascript": [
              "\n",
              "    async function download(id, filename, size) {\n",
              "      if (!google.colab.kernel.accessAllowed) {\n",
              "        return;\n",
              "      }\n",
              "      const div = document.createElement('div');\n",
              "      const label = document.createElement('label');\n",
              "      label.textContent = `Downloading \"${filename}\": `;\n",
              "      div.appendChild(label);\n",
              "      const progress = document.createElement('progress');\n",
              "      progress.max = size;\n",
              "      div.appendChild(progress);\n",
              "      document.body.appendChild(div);\n",
              "\n",
              "      const buffers = [];\n",
              "      let downloaded = 0;\n",
              "\n",
              "      const channel = await google.colab.kernel.comms.open(id);\n",
              "      // Send a message to notify the kernel that we're ready.\n",
              "      channel.send({})\n",
              "\n",
              "      for await (const message of channel.messages) {\n",
              "        // Send a message to notify the kernel that we're ready.\n",
              "        channel.send({})\n",
              "        if (message.buffers) {\n",
              "          for (const buffer of message.buffers) {\n",
              "            buffers.push(buffer);\n",
              "            downloaded += buffer.byteLength;\n",
              "            progress.value = downloaded;\n",
              "          }\n",
              "        }\n",
              "      }\n",
              "      const blob = new Blob(buffers, {type: 'application/binary'});\n",
              "      const a = document.createElement('a');\n",
              "      a.href = window.URL.createObjectURL(blob);\n",
              "      a.download = filename;\n",
              "      div.appendChild(a);\n",
              "      a.click();\n",
              "      div.remove();\n",
              "    }\n",
              "  "
            ]
          },
          "metadata": {}
        },
        {
          "output_type": "display_data",
          "data": {
            "text/plain": [
              "<IPython.core.display.Javascript object>"
            ],
            "application/javascript": [
              "download(\"download_7e518bc3-b42b-476d-805b-34317f28c50c\", \"Kia app_\\uc77c\\uc8fc\\uc77c_\\ub9ac\\ubdf0_\\ucd5c\\uc2e0\\uc21c.xlsx\", 22299)"
            ]
          },
          "metadata": {}
        }
      ],
      "source": [
        "# 1. 설치\n",
        "!pip install google-play-scraper openpyxl\n",
        "\n",
        "# 2. import\n",
        "from google_play_scraper import reviews, Sort\n",
        "import pandas as pd\n",
        "from datetime import datetime, timedelta\n",
        "from google.colab import files\n",
        "\n",
        "# 3. 설정\n",
        "app_id = 'com.kia.oneapp.kr'\n",
        "cutoff_date = datetime.now() - timedelta(days=7)\n",
        "\n",
        "# 4. 리뷰 수집\n",
        "result, _ = reviews(\n",
        "    app_id,\n",
        "    lang='ko',\n",
        "    country='kr',\n",
        "    sort=Sort.NEWEST,\n",
        "    count=500\n",
        ")\n",
        "\n",
        "# 5. 변환\n",
        "formatted = []\n",
        "for r in result:\n",
        "    if r['at'] >= cutoff_date:\n",
        "        formatted.append([\n",
        "            \"\",  # A열\n",
        "            \"Kia(안드로이드)\",  # B열\n",
        "            r['userName'],  # C열\n",
        "            r['at'],  # D열: datetime 그대로\n",
        "            \"\",  # E열\n",
        "            r['content']  # F열\n",
        "        ])\n",
        "\n",
        "# 6. DataFrame 생성\n",
        "columns = [\"\", \"어플\", \"사용자\", \"접수 일자\", \"VERSION\", \"등록 내용\"]\n",
        "df = pd.DataFrame(formatted, columns=columns)\n",
        "\n",
        "# 7. 접수일 오름차순 정렬\n",
        "df.sort_values(by=\"접수 일자\", ascending=True, inplace=True)\n",
        "\n",
        "# 8. 날짜를 문자열로 변환\n",
        "df[\"접수 일자\"] = df[\"접수 일자\"].dt.strftime('%Y-%m-%d')\n",
        "\n",
        "# 9. 파일 저장\n",
        "filename = \"Kia app_일주일_리뷰_최신순.xlsx\"\n",
        "df.to_excel(filename, index=False)\n",
        "\n",
        "# 10. 다운로드\n",
        "files.download(filename)\n"
      ]
    }
  ]
}